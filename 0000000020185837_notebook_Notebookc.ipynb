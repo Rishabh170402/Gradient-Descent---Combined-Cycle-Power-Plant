{
 "cells": [
  {
   "cell_type": "code",
   "execution_count": 2,
   "metadata": {},
   "outputs": [],
   "source": [
    "import numpy as np"
   ]
  },
  {
   "cell_type": "code",
   "execution_count": 3,
   "metadata": {},
   "outputs": [
    {
     "data": {
      "text/plain": [
       "LinearRegression()"
      ]
     },
     "execution_count": 3,
     "metadata": {},
     "output_type": "execute_result"
    }
   ],
   "source": [
    "from sklearn.linear_model import LinearRegression\n",
    "alg_1 = LinearRegression()\n",
    "train1 = np.loadtxt(\"trained.csv\", delimiter = \",\")\n",
    "X = train1[:, :len(train1[0]) - 1]\n",
    "Y = train1[:, -1]\n",
    "alg_1.fit(X, Y)"
   ]
  },
  {
   "cell_type": "code",
   "execution_count": 4,
   "metadata": {},
   "outputs": [],
   "source": [
    "test_1 = np.loadtxt(\"tested.csv\", delimiter = \",\")\n",
    "output = alg_1.predict(test_1)\n",
    "np.savetxt(\"predict3.csv\", output,fmt='%.5f')"
   ]
  },
  {
   "cell_type": "code",
   "execution_count": 5,
   "metadata": {},
   "outputs": [],
   "source": [
    "def gdStep(data, alpha, m):\n",
    "    X = data[:, :len(data[0]) - 1]\n",
    "    Y = data[:, -1]\n",
    "    m_slope = np.zeros(len(X[0]))\n",
    "    N = len(data)\n",
    "    for i in range(N):\n",
    "        for j in range(len(X[0])):\n",
    "            m_slope[j] += (-2/N) * (Y[i] - (m * X[i]).sum()) * X[i][j]\n",
    "    new_m = m - (alpha * m_slope)\n",
    "    return new_m"
   ]
  },
  {
   "cell_type": "code",
   "execution_count": 6,
   "metadata": {},
   "outputs": [],
   "source": [
    "def gd(iteration, alpha, data):\n",
    "    X = data[:, :len(data[0]) - 1]\n",
    "    Y = data[:, -1]\n",
    "    m = np.zeros(len(X[0]))\n",
    "    for i in range(iteration):\n",
    "        m = gdStep(data, alpha, m)\n",
    "        print(\"cost: \" , cost(data, m))\n",
    "    return m"
   ]
  },
  {
   "cell_type": "code",
   "execution_count": 7,
   "metadata": {},
   "outputs": [],
   "source": [
    "def cost(data, m):\n",
    "    Tcost = 0\n",
    "    N = len(data)\n",
    "    X = data[:, :len(data[0]) - 1]\n",
    "    Y = data[:, -1]\n",
    "    for i in range(N):\n",
    "        Tcost += (1/N) * ((Y[i] - ((m * X[i]).sum())) ** 2)\n",
    "    return Tcost"
   ]
  },
  {
   "cell_type": "code",
   "execution_count": 8,
   "metadata": {},
   "outputs": [],
   "source": [
    "from sklearn import preprocessing\n",
    "scaler = preprocessing.StandardScaler()\n",
    "def run():\n",
    "    data = np.loadtxt(\"trained.csv\", delimiter = \",\")\n",
    "    X = data[:, :len(data[0]) - 1]\n",
    "    Y = data[:, -1].reshape(len(X), 1)\n",
    "    scaler.fit(X)\n",
    "    X = scaler.transform(X)\n",
    "    data = np.append(X, Y, axis = 1)\n",
    "    \n",
    "    c = np.ones(len(X)).reshape(len(X), 1)\n",
    "    data = np.append(c, data, axis = 1)\n",
    "    \n",
    "    \n",
    "    iteration = 200\n",
    "    alpha = 0.1\n",
    "    m = gd(iteration, alpha, data)\n",
    "    print(\"m = \", m)\n",
    "    return m"
   ]
  },
  {
   "cell_type": "code",
   "execution_count": null,
   "metadata": {},
   "outputs": [
    {
     "name": "stdout",
     "output_type": "stream",
     "text": [
      "cost:  132273.17028197853\n",
      "cost:  84643.21738144128\n",
      "cost:  54177.47422779269\n",
      "cost:  34683.656935452964\n",
      "cost:  22208.479529620814\n",
      "cost:  14224.382169986971\n",
      "cost:  9114.383468776612\n",
      "cost:  5843.7812840887555\n",
      "cost:  3750.4051743364307\n",
      "cost:  2410.4727339052592\n",
      "cost:  1552.7621937563938\n",
      "cost:  1003.6891423474598\n",
      "cost:  652.1571417929904\n",
      "cost:  427.0624246450334\n",
      "cost:  282.8969056987254\n",
      "cost:  190.53405355324705\n",
      "cost:  131.33178845157056\n",
      "cost:  93.35828546206275\n",
      "cost:  68.97644681535034\n",
      "cost:  53.29793095396739\n",
      "cost:  43.193704743608535\n",
      "cost:  36.660775975520814\n",
      "cost:  32.41688558517923\n",
      "cost:  29.64109751400499\n",
      "cost:  27.807765771435186\n",
      "cost:  26.580265048887266\n",
      "cost:  25.742971704330987\n",
      "cost:  25.157726328859898\n",
      "cost:  24.735965591782957\n",
      "cost:  24.420883269474714\n",
      "cost:  24.176010622787746\n",
      "cost:  23.977905690256787\n",
      "cost:  23.81147271061384\n",
      "cost:  23.66696516445811\n",
      "cost:  23.5380665997733\n",
      "cost:  23.42066145210334\n",
      "cost:  23.312047631015606\n",
      "cost:  23.21043197232063\n",
      "cost:  23.11460683243292\n",
      "cost:  23.023742700095553\n",
      "cost:  22.937255128393197\n",
      "cost:  22.854719287256508\n",
      "cost:  22.775815037704582\n",
      "cost:  22.700291575975854\n",
      "cost:  22.627944631473905\n",
      "cost:  22.558601722757246\n",
      "cost:  22.492112589901986\n",
      "cost:  22.42834295548228\n",
      "cost:  22.367170428810265\n"
     ]
    }
   ],
   "source": [
    "slope=run()"
   ]
  },
  {
   "cell_type": "code",
   "execution_count": null,
   "metadata": {},
   "outputs": [],
   "source": []
  }
 ],
 "metadata": {
  "kernelspec": {
   "display_name": "Python 3",
   "language": "python",
   "name": "python3"
  },
  "language_info": {
   "codemirror_mode": {
    "name": "ipython",
    "version": 3
   },
   "file_extension": ".py",
   "mimetype": "text/x-python",
   "name": "python",
   "nbconvert_exporter": "python",
   "pygments_lexer": "ipython3",
   "version": "3.8.3"
  }
 },
 "nbformat": 4,
 "nbformat_minor": 4
}
